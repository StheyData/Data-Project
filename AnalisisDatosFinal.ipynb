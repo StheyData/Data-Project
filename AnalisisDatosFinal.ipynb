{
  "cells": [
    {
      "cell_type": "code",
      "execution_count": null,
      "id": "c361b277-0a03-475d-a87c-5c0084b17b1a",
      "metadata": {
        "tags": [],
        "id": "c361b277-0a03-475d-a87c-5c0084b17b1a"
      },
      "outputs": [],
      "source": [
        "import pandas as pd\n",
        "import numpy as np"
      ]
    },
    {
      "cell_type": "code",
      "execution_count": null,
      "id": "445cf7c0-0502-47f0-a104-3c5dc6ab6b38",
      "metadata": {
        "id": "445cf7c0-0502-47f0-a104-3c5dc6ab6b38"
      },
      "outputs": [],
      "source": [
        "df=pd.read_csv('DatosSeguros.csv')"
      ]
    },
    {
      "cell_type": "code",
      "execution_count": null,
      "id": "f546d0e6-5c61-4837-a8cd-777ca678c903",
      "metadata": {
        "id": "f546d0e6-5c61-4837-a8cd-777ca678c903",
        "outputId": "a84b3a3e-fb1e-4256-f107-8829f178b6cf"
      },
      "outputs": [
        {
          "name": "stdout",
          "output_type": "stream",
          "text": [
            "<class 'pandas.core.frame.DataFrame'>\n",
            "RangeIndex: 1349 entries, 0 to 1348\n",
            "Data columns (total 7 columns):\n",
            " #   Column        Non-Null Count  Dtype  \n",
            "---  ------        --------------  -----  \n",
            " 0   edad          1349 non-null   int64  \n",
            " 1   sexo          1349 non-null   object \n",
            " 2   imc           1347 non-null   float64\n",
            " 3   hijos         1349 non-null   int64  \n",
            " 4   fumador       1347 non-null   object \n",
            " 5   region        1349 non-null   object \n",
            " 6   valor_seguro  1349 non-null   float64\n",
            "dtypes: float64(2), int64(2), object(3)\n",
            "memory usage: 73.9+ KB\n"
          ]
        }
      ],
      "source": [
        "df.info()"
      ]
    },
    {
      "cell_type": "code",
      "execution_count": null,
      "id": "51a2c162-821a-42c5-b7c5-eccad86d51ff",
      "metadata": {
        "id": "51a2c162-821a-42c5-b7c5-eccad86d51ff",
        "outputId": "0be66146-32fb-4e69-e7a9-9b895f3aa33e"
      },
      "outputs": [
        {
          "data": {
            "text/plain": [
              "edad            0\n",
              "sexo            0\n",
              "imc             2\n",
              "hijos           0\n",
              "fumador         2\n",
              "region          0\n",
              "valor_seguro    0\n",
              "dtype: int64"
            ]
          },
          "execution_count": 5,
          "metadata": {},
          "output_type": "execute_result"
        }
      ],
      "source": [
        "df.isnull().sum()"
      ]
    },
    {
      "cell_type": "code",
      "execution_count": null,
      "id": "3d067b4d-4a04-4a56-95e4-098d8b8c37ad",
      "metadata": {
        "id": "3d067b4d-4a04-4a56-95e4-098d8b8c37ad"
      },
      "outputs": [],
      "source": [
        "df=df.dropna()"
      ]
    },
    {
      "cell_type": "code",
      "execution_count": null,
      "id": "461441f0-921f-42bd-8381-1c84bf5d2a7a",
      "metadata": {
        "id": "461441f0-921f-42bd-8381-1c84bf5d2a7a",
        "outputId": "103aa7db-7de8-4771-ffa1-ab726577b986"
      },
      "outputs": [
        {
          "name": "stdout",
          "output_type": "stream",
          "text": [
            "<class 'pandas.core.frame.DataFrame'>\n",
            "Int64Index: 1345 entries, 0 to 1348\n",
            "Data columns (total 7 columns):\n",
            " #   Column        Non-Null Count  Dtype  \n",
            "---  ------        --------------  -----  \n",
            " 0   edad          1345 non-null   int64  \n",
            " 1   sexo          1345 non-null   object \n",
            " 2   imc           1345 non-null   float64\n",
            " 3   hijos         1345 non-null   int64  \n",
            " 4   fumador       1345 non-null   object \n",
            " 5   region        1345 non-null   object \n",
            " 6   valor_seguro  1345 non-null   float64\n",
            "dtypes: float64(2), int64(2), object(3)\n",
            "memory usage: 84.1+ KB\n"
          ]
        }
      ],
      "source": [
        "df.info()"
      ]
    },
    {
      "cell_type": "code",
      "execution_count": null,
      "id": "b3e8b7d1-8403-4852-997b-b28cc069d87e",
      "metadata": {
        "id": "b3e8b7d1-8403-4852-997b-b28cc069d87e"
      },
      "outputs": [],
      "source": [
        "df=df.drop_duplicates()"
      ]
    },
    {
      "cell_type": "code",
      "execution_count": null,
      "id": "938914fa-bf15-44e4-a7c1-5efbcf183e70",
      "metadata": {
        "id": "938914fa-bf15-44e4-a7c1-5efbcf183e70",
        "outputId": "4f92cb21-0151-44db-a392-0fb7ab823a79"
      },
      "outputs": [
        {
          "name": "stdout",
          "output_type": "stream",
          "text": [
            "<class 'pandas.core.frame.DataFrame'>\n",
            "Int64Index: 1333 entries, 0 to 1347\n",
            "Data columns (total 7 columns):\n",
            " #   Column        Non-Null Count  Dtype  \n",
            "---  ------        --------------  -----  \n",
            " 0   edad          1333 non-null   int64  \n",
            " 1   sexo          1333 non-null   object \n",
            " 2   imc           1333 non-null   float64\n",
            " 3   hijos         1333 non-null   int64  \n",
            " 4   fumador       1333 non-null   object \n",
            " 5   region        1333 non-null   object \n",
            " 6   valor_seguro  1333 non-null   float64\n",
            "dtypes: float64(2), int64(2), object(3)\n",
            "memory usage: 83.3+ KB\n"
          ]
        }
      ],
      "source": [
        "df.info()"
      ]
    },
    {
      "cell_type": "code",
      "execution_count": null,
      "id": "bfcc3ee8-3360-4260-adb5-e489958a96e2",
      "metadata": {
        "id": "bfcc3ee8-3360-4260-adb5-e489958a96e2",
        "outputId": "68af472c-7cff-4201-8ebc-5d9087544294"
      },
      "outputs": [
        {
          "data": {
            "text/html": [
              "<div>\n",
              "<style scoped>\n",
              "    .dataframe tbody tr th:only-of-type {\n",
              "        vertical-align: middle;\n",
              "    }\n",
              "\n",
              "    .dataframe tbody tr th {\n",
              "        vertical-align: top;\n",
              "    }\n",
              "\n",
              "    .dataframe thead th {\n",
              "        text-align: right;\n",
              "    }\n",
              "</style>\n",
              "<table border=\"1\" class=\"dataframe\">\n",
              "  <thead>\n",
              "    <tr style=\"text-align: right;\">\n",
              "      <th></th>\n",
              "      <th>edad</th>\n",
              "      <th>sexo</th>\n",
              "      <th>imc</th>\n",
              "      <th>hijos</th>\n",
              "      <th>fumador</th>\n",
              "      <th>region</th>\n",
              "      <th>valor_seguro</th>\n",
              "    </tr>\n",
              "  </thead>\n",
              "  <tbody>\n",
              "    <tr>\n",
              "      <th>1097</th>\n",
              "      <td>18</td>\n",
              "      <td>F</td>\n",
              "      <td>31.350</td>\n",
              "      <td>4</td>\n",
              "      <td>no</td>\n",
              "      <td>Boyaca</td>\n",
              "      <td>4561.18850</td>\n",
              "    </tr>\n",
              "    <tr>\n",
              "      <th>59</th>\n",
              "      <td>18</td>\n",
              "      <td>M</td>\n",
              "      <td>31.680</td>\n",
              "      <td>2</td>\n",
              "      <td>yes</td>\n",
              "      <td>Cundinamarca</td>\n",
              "      <td>34303.16720</td>\n",
              "    </tr>\n",
              "    <tr>\n",
              "      <th>1251</th>\n",
              "      <td>18</td>\n",
              "      <td>M</td>\n",
              "      <td>33.330</td>\n",
              "      <td>0</td>\n",
              "      <td>no</td>\n",
              "      <td>Cundinamarca</td>\n",
              "      <td>1135.94070</td>\n",
              "    </tr>\n",
              "    <tr>\n",
              "      <th>297</th>\n",
              "      <td>18</td>\n",
              "      <td>M</td>\n",
              "      <td>22.990</td>\n",
              "      <td>0</td>\n",
              "      <td>no</td>\n",
              "      <td>Boyaca</td>\n",
              "      <td>1704.56810</td>\n",
              "    </tr>\n",
              "    <tr>\n",
              "      <th>1255</th>\n",
              "      <td>18</td>\n",
              "      <td>F</td>\n",
              "      <td>39.820</td>\n",
              "      <td>0</td>\n",
              "      <td>no</td>\n",
              "      <td>Cundinamarca</td>\n",
              "      <td>1633.96180</td>\n",
              "    </tr>\n",
              "    <tr>\n",
              "      <th>944</th>\n",
              "      <td>18</td>\n",
              "      <td>F</td>\n",
              "      <td>40.185</td>\n",
              "      <td>0</td>\n",
              "      <td>no</td>\n",
              "      <td>Boyaca</td>\n",
              "      <td>2217.46915</td>\n",
              "    </tr>\n",
              "    <tr>\n",
              "      <th>1152</th>\n",
              "      <td>18</td>\n",
              "      <td>F</td>\n",
              "      <td>30.305</td>\n",
              "      <td>0</td>\n",
              "      <td>no</td>\n",
              "      <td>Boyaca</td>\n",
              "      <td>2203.73595</td>\n",
              "    </tr>\n",
              "    <tr>\n",
              "      <th>665</th>\n",
              "      <td>18</td>\n",
              "      <td>M</td>\n",
              "      <td>33.660</td>\n",
              "      <td>0</td>\n",
              "      <td>no</td>\n",
              "      <td>Cundinamarca</td>\n",
              "      <td>1136.39940</td>\n",
              "    </tr>\n",
              "    <tr>\n",
              "      <th>52</th>\n",
              "      <td>18</td>\n",
              "      <td>F</td>\n",
              "      <td>35.625</td>\n",
              "      <td>0</td>\n",
              "      <td>no</td>\n",
              "      <td>Boyaca</td>\n",
              "      <td>2211.13075</td>\n",
              "    </tr>\n",
              "    <tr>\n",
              "      <th>650</th>\n",
              "      <td>18</td>\n",
              "      <td>M</td>\n",
              "      <td>28.500</td>\n",
              "      <td>0</td>\n",
              "      <td>no</td>\n",
              "      <td>Boyaca</td>\n",
              "      <td>1712.22700</td>\n",
              "    </tr>\n",
              "  </tbody>\n",
              "</table>\n",
              "</div>"
            ],
            "text/plain": [
              "      edad sexo     imc  hijos fumador        region  valor_seguro\n",
              "1097    18    F  31.350      4      no        Boyaca    4561.18850\n",
              "59      18    M  31.680      2     yes  Cundinamarca   34303.16720\n",
              "1251    18    M  33.330      0      no  Cundinamarca    1135.94070\n",
              "297     18    M  22.990      0      no        Boyaca    1704.56810\n",
              "1255    18    F  39.820      0      no  Cundinamarca    1633.96180\n",
              "944     18    F  40.185      0      no        Boyaca    2217.46915\n",
              "1152    18    F  30.305      0      no        Boyaca    2203.73595\n",
              "665     18    M  33.660      0      no  Cundinamarca    1136.39940\n",
              "52      18    F  35.625      0      no        Boyaca    2211.13075\n",
              "650     18    M  28.500      0      no        Boyaca    1712.22700"
            ]
          },
          "execution_count": 10,
          "metadata": {},
          "output_type": "execute_result"
        }
      ],
      "source": [
        "edad = df.sort_values('edad')\n",
        "edad.head(10)"
      ]
    },
    {
      "cell_type": "code",
      "execution_count": null,
      "id": "faad4aa1-db6a-4547-9661-e51121cb1aa0",
      "metadata": {
        "id": "faad4aa1-db6a-4547-9661-e51121cb1aa0",
        "outputId": "53fb0e4e-e067-4251-a890-1f4ac56e5dca"
      },
      "outputs": [
        {
          "data": {
            "text/html": [
              "<div>\n",
              "<style scoped>\n",
              "    .dataframe tbody tr th:only-of-type {\n",
              "        vertical-align: middle;\n",
              "    }\n",
              "\n",
              "    .dataframe tbody tr th {\n",
              "        vertical-align: top;\n",
              "    }\n",
              "\n",
              "    .dataframe thead th {\n",
              "        text-align: right;\n",
              "    }\n",
              "</style>\n",
              "<table border=\"1\" class=\"dataframe\">\n",
              "  <thead>\n",
              "    <tr style=\"text-align: right;\">\n",
              "      <th></th>\n",
              "      <th>edad</th>\n",
              "      <th>sexo</th>\n",
              "      <th>imc</th>\n",
              "      <th>hijos</th>\n",
              "      <th>fumador</th>\n",
              "      <th>region</th>\n",
              "      <th>valor_seguro</th>\n",
              "    </tr>\n",
              "  </thead>\n",
              "  <tbody>\n",
              "    <tr>\n",
              "      <th>422</th>\n",
              "      <td>64</td>\n",
              "      <td>M</td>\n",
              "      <td>33.880</td>\n",
              "      <td>0</td>\n",
              "      <td>yes</td>\n",
              "      <td>Cundinamarca</td>\n",
              "      <td>46889.26120</td>\n",
              "    </tr>\n",
              "    <tr>\n",
              "      <th>754</th>\n",
              "      <td>64</td>\n",
              "      <td>M</td>\n",
              "      <td>37.905</td>\n",
              "      <td>0</td>\n",
              "      <td>no</td>\n",
              "      <td>Antioquia</td>\n",
              "      <td>14210.53595</td>\n",
              "    </tr>\n",
              "    <tr>\n",
              "      <th>404</th>\n",
              "      <td>64</td>\n",
              "      <td>F</td>\n",
              "      <td>32.965</td>\n",
              "      <td>0</td>\n",
              "      <td>no</td>\n",
              "      <td>Antioquia</td>\n",
              "      <td>14692.66935</td>\n",
              "    </tr>\n",
              "    <tr>\n",
              "      <th>420</th>\n",
              "      <td>64</td>\n",
              "      <td>M</td>\n",
              "      <td>39.160</td>\n",
              "      <td>1</td>\n",
              "      <td>no</td>\n",
              "      <td>Cundinamarca</td>\n",
              "      <td>14418.28040</td>\n",
              "    </tr>\n",
              "    <tr>\n",
              "      <th>380</th>\n",
              "      <td>64</td>\n",
              "      <td>F</td>\n",
              "      <td>30.115</td>\n",
              "      <td>3</td>\n",
              "      <td>no</td>\n",
              "      <td>Antioquia</td>\n",
              "      <td>16455.70785</td>\n",
              "    </tr>\n",
              "    <tr>\n",
              "      <th>1053</th>\n",
              "      <td>64</td>\n",
              "      <td>M</td>\n",
              "      <td>26.410</td>\n",
              "      <td>0</td>\n",
              "      <td>no</td>\n",
              "      <td>Boyaca</td>\n",
              "      <td>14394.55790</td>\n",
              "    </tr>\n",
              "    <tr>\n",
              "      <th>827</th>\n",
              "      <td>64</td>\n",
              "      <td>F</td>\n",
              "      <td>31.825</td>\n",
              "      <td>2</td>\n",
              "      <td>no</td>\n",
              "      <td>Boyaca</td>\n",
              "      <td>16069.08475</td>\n",
              "    </tr>\n",
              "    <tr>\n",
              "      <th>1248</th>\n",
              "      <td>64</td>\n",
              "      <td>M</td>\n",
              "      <td>36.960</td>\n",
              "      <td>2</td>\n",
              "      <td>yes</td>\n",
              "      <td>Cundinamarca</td>\n",
              "      <td>49577.66240</td>\n",
              "    </tr>\n",
              "    <tr>\n",
              "      <th>803</th>\n",
              "      <td>64</td>\n",
              "      <td>F</td>\n",
              "      <td>35.970</td>\n",
              "      <td>0</td>\n",
              "      <td>no</td>\n",
              "      <td>Cundinamarca</td>\n",
              "      <td>14313.84630</td>\n",
              "    </tr>\n",
              "    <tr>\n",
              "      <th>337</th>\n",
              "      <td>64</td>\n",
              "      <td>M</td>\n",
              "      <td>34.500</td>\n",
              "      <td>0</td>\n",
              "      <td>no</td>\n",
              "      <td>Caribe</td>\n",
              "      <td>13822.80300</td>\n",
              "    </tr>\n",
              "  </tbody>\n",
              "</table>\n",
              "</div>"
            ],
            "text/plain": [
              "      edad sexo     imc  hijos fumador        region  valor_seguro\n",
              "422     64    M  33.880      0     yes  Cundinamarca   46889.26120\n",
              "754     64    M  37.905      0      no     Antioquia   14210.53595\n",
              "404     64    F  32.965      0      no     Antioquia   14692.66935\n",
              "420     64    M  39.160      1      no  Cundinamarca   14418.28040\n",
              "380     64    F  30.115      3      no     Antioquia   16455.70785\n",
              "1053    64    M  26.410      0      no        Boyaca   14394.55790\n",
              "827     64    F  31.825      2      no        Boyaca   16069.08475\n",
              "1248    64    M  36.960      2     yes  Cundinamarca   49577.66240\n",
              "803     64    F  35.970      0      no  Cundinamarca   14313.84630\n",
              "337     64    M  34.500      0      no        Caribe   13822.80300"
            ]
          },
          "execution_count": 11,
          "metadata": {},
          "output_type": "execute_result"
        }
      ],
      "source": [
        "edad = df.sort_values('edad',ascending=False)\n",
        "edad.head(10)"
      ]
    },
    {
      "cell_type": "code",
      "execution_count": null,
      "id": "105c6c75-c011-41af-9200-1cb37126c8d6",
      "metadata": {
        "id": "105c6c75-c011-41af-9200-1cb37126c8d6"
      },
      "outputs": [],
      "source": [
        "Rangos= [17, 28, 38, 48, 58, 68]"
      ]
    },
    {
      "cell_type": "code",
      "execution_count": null,
      "id": "b165275d-2333-4a97-b525-1f57ce538e33",
      "metadata": {
        "tags": [],
        "id": "b165275d-2333-4a97-b525-1f57ce538e33"
      },
      "outputs": [],
      "source": [
        "NombreRangos= [\"A\", \"B\", \"C\", \"D\", \"E\"]"
      ]
    },
    {
      "cell_type": "code",
      "execution_count": null,
      "id": "5dcdfbca-e000-44c5-9dce-6ada780701dc",
      "metadata": {
        "id": "5dcdfbca-e000-44c5-9dce-6ada780701dc"
      },
      "outputs": [],
      "source": [
        "df['Rango_Edad'] = pd.cut(df['edad'], Rangos, labels = NombreRangos)"
      ]
    },
    {
      "cell_type": "code",
      "execution_count": null,
      "id": "ad6a8919-495d-4f84-bfa6-9db64cd8a5c3",
      "metadata": {
        "id": "ad6a8919-495d-4f84-bfa6-9db64cd8a5c3",
        "outputId": "85b904b6-6fde-4f15-e500-f97bc70e162a"
      },
      "outputs": [
        {
          "data": {
            "text/html": [
              "<div>\n",
              "<style scoped>\n",
              "    .dataframe tbody tr th:only-of-type {\n",
              "        vertical-align: middle;\n",
              "    }\n",
              "\n",
              "    .dataframe tbody tr th {\n",
              "        vertical-align: top;\n",
              "    }\n",
              "\n",
              "    .dataframe thead th {\n",
              "        text-align: right;\n",
              "    }\n",
              "</style>\n",
              "<table border=\"1\" class=\"dataframe\">\n",
              "  <thead>\n",
              "    <tr style=\"text-align: right;\">\n",
              "      <th></th>\n",
              "      <th>edad</th>\n",
              "      <th>sexo</th>\n",
              "      <th>imc</th>\n",
              "      <th>hijos</th>\n",
              "      <th>fumador</th>\n",
              "      <th>region</th>\n",
              "      <th>valor_seguro</th>\n",
              "      <th>Rango_Edad</th>\n",
              "    </tr>\n",
              "  </thead>\n",
              "  <tbody>\n",
              "    <tr>\n",
              "      <th>0</th>\n",
              "      <td>19</td>\n",
              "      <td>F</td>\n",
              "      <td>27.900</td>\n",
              "      <td>0</td>\n",
              "      <td>yes</td>\n",
              "      <td>Caribe</td>\n",
              "      <td>16884.92400</td>\n",
              "      <td>A</td>\n",
              "    </tr>\n",
              "    <tr>\n",
              "      <th>3</th>\n",
              "      <td>18</td>\n",
              "      <td>M</td>\n",
              "      <td>33.770</td>\n",
              "      <td>1</td>\n",
              "      <td>no</td>\n",
              "      <td>Cundinamarca</td>\n",
              "      <td>1725.55230</td>\n",
              "      <td>A</td>\n",
              "    </tr>\n",
              "    <tr>\n",
              "      <th>4</th>\n",
              "      <td>28</td>\n",
              "      <td>M</td>\n",
              "      <td>33.000</td>\n",
              "      <td>3</td>\n",
              "      <td>no</td>\n",
              "      <td>Cundinamarca</td>\n",
              "      <td>4449.46200</td>\n",
              "      <td>A</td>\n",
              "    </tr>\n",
              "    <tr>\n",
              "      <th>5</th>\n",
              "      <td>33</td>\n",
              "      <td>M</td>\n",
              "      <td>22.705</td>\n",
              "      <td>0</td>\n",
              "      <td>no</td>\n",
              "      <td>Antioquia</td>\n",
              "      <td>21984.47061</td>\n",
              "      <td>B</td>\n",
              "    </tr>\n",
              "    <tr>\n",
              "      <th>6</th>\n",
              "      <td>32</td>\n",
              "      <td>M</td>\n",
              "      <td>28.880</td>\n",
              "      <td>0</td>\n",
              "      <td>no</td>\n",
              "      <td>Antioquia</td>\n",
              "      <td>3866.85520</td>\n",
              "      <td>B</td>\n",
              "    </tr>\n",
              "  </tbody>\n",
              "</table>\n",
              "</div>"
            ],
            "text/plain": [
              "   edad sexo     imc  hijos fumador        region  valor_seguro Rango_Edad\n",
              "0    19    F  27.900      0     yes        Caribe   16884.92400          A\n",
              "3    18    M  33.770      1      no  Cundinamarca    1725.55230          A\n",
              "4    28    M  33.000      3      no  Cundinamarca    4449.46200          A\n",
              "5    33    M  22.705      0      no     Antioquia   21984.47061          B\n",
              "6    32    M  28.880      0      no     Antioquia    3866.85520          B"
            ]
          },
          "execution_count": 15,
          "metadata": {},
          "output_type": "execute_result"
        }
      ],
      "source": [
        "df.head()"
      ]
    },
    {
      "cell_type": "code",
      "execution_count": null,
      "id": "e3e71cd3-3008-49c8-aa58-2ae675c043f1",
      "metadata": {
        "id": "e3e71cd3-3008-49c8-aa58-2ae675c043f1",
        "outputId": "d248bc16-c0e6-48c0-d3b0-9af0a66eb8c9"
      },
      "outputs": [
        {
          "data": {
            "text/html": [
              "<div>\n",
              "<style scoped>\n",
              "    .dataframe tbody tr th:only-of-type {\n",
              "        vertical-align: middle;\n",
              "    }\n",
              "\n",
              "    .dataframe tbody tr th {\n",
              "        vertical-align: top;\n",
              "    }\n",
              "\n",
              "    .dataframe thead th {\n",
              "        text-align: right;\n",
              "    }\n",
              "</style>\n",
              "<table border=\"1\" class=\"dataframe\">\n",
              "  <thead>\n",
              "    <tr style=\"text-align: right;\">\n",
              "      <th></th>\n",
              "      <th>edad</th>\n",
              "      <th>sexo</th>\n",
              "      <th>imc</th>\n",
              "      <th>hijos</th>\n",
              "      <th>fumador</th>\n",
              "      <th>region</th>\n",
              "      <th>valor_seguro</th>\n",
              "      <th>Rango_Edad</th>\n",
              "    </tr>\n",
              "  </thead>\n",
              "  <tbody>\n",
              "    <tr>\n",
              "      <th>1097</th>\n",
              "      <td>18</td>\n",
              "      <td>F</td>\n",
              "      <td>31.350</td>\n",
              "      <td>4</td>\n",
              "      <td>no</td>\n",
              "      <td>Boyaca</td>\n",
              "      <td>4561.18850</td>\n",
              "      <td>A</td>\n",
              "    </tr>\n",
              "    <tr>\n",
              "      <th>59</th>\n",
              "      <td>18</td>\n",
              "      <td>M</td>\n",
              "      <td>31.680</td>\n",
              "      <td>2</td>\n",
              "      <td>yes</td>\n",
              "      <td>Cundinamarca</td>\n",
              "      <td>34303.16720</td>\n",
              "      <td>A</td>\n",
              "    </tr>\n",
              "    <tr>\n",
              "      <th>1251</th>\n",
              "      <td>18</td>\n",
              "      <td>M</td>\n",
              "      <td>33.330</td>\n",
              "      <td>0</td>\n",
              "      <td>no</td>\n",
              "      <td>Cundinamarca</td>\n",
              "      <td>1135.94070</td>\n",
              "      <td>A</td>\n",
              "    </tr>\n",
              "    <tr>\n",
              "      <th>297</th>\n",
              "      <td>18</td>\n",
              "      <td>M</td>\n",
              "      <td>22.990</td>\n",
              "      <td>0</td>\n",
              "      <td>no</td>\n",
              "      <td>Boyaca</td>\n",
              "      <td>1704.56810</td>\n",
              "      <td>A</td>\n",
              "    </tr>\n",
              "    <tr>\n",
              "      <th>1255</th>\n",
              "      <td>18</td>\n",
              "      <td>F</td>\n",
              "      <td>39.820</td>\n",
              "      <td>0</td>\n",
              "      <td>no</td>\n",
              "      <td>Cundinamarca</td>\n",
              "      <td>1633.96180</td>\n",
              "      <td>A</td>\n",
              "    </tr>\n",
              "    <tr>\n",
              "      <th>944</th>\n",
              "      <td>18</td>\n",
              "      <td>F</td>\n",
              "      <td>40.185</td>\n",
              "      <td>0</td>\n",
              "      <td>no</td>\n",
              "      <td>Boyaca</td>\n",
              "      <td>2217.46915</td>\n",
              "      <td>A</td>\n",
              "    </tr>\n",
              "    <tr>\n",
              "      <th>1152</th>\n",
              "      <td>18</td>\n",
              "      <td>F</td>\n",
              "      <td>30.305</td>\n",
              "      <td>0</td>\n",
              "      <td>no</td>\n",
              "      <td>Boyaca</td>\n",
              "      <td>2203.73595</td>\n",
              "      <td>A</td>\n",
              "    </tr>\n",
              "    <tr>\n",
              "      <th>665</th>\n",
              "      <td>18</td>\n",
              "      <td>M</td>\n",
              "      <td>33.660</td>\n",
              "      <td>0</td>\n",
              "      <td>no</td>\n",
              "      <td>Cundinamarca</td>\n",
              "      <td>1136.39940</td>\n",
              "      <td>A</td>\n",
              "    </tr>\n",
              "    <tr>\n",
              "      <th>52</th>\n",
              "      <td>18</td>\n",
              "      <td>F</td>\n",
              "      <td>35.625</td>\n",
              "      <td>0</td>\n",
              "      <td>no</td>\n",
              "      <td>Boyaca</td>\n",
              "      <td>2211.13075</td>\n",
              "      <td>A</td>\n",
              "    </tr>\n",
              "    <tr>\n",
              "      <th>650</th>\n",
              "      <td>18</td>\n",
              "      <td>M</td>\n",
              "      <td>28.500</td>\n",
              "      <td>0</td>\n",
              "      <td>no</td>\n",
              "      <td>Boyaca</td>\n",
              "      <td>1712.22700</td>\n",
              "      <td>A</td>\n",
              "    </tr>\n",
              "  </tbody>\n",
              "</table>\n",
              "</div>"
            ],
            "text/plain": [
              "      edad sexo     imc  hijos fumador        region  valor_seguro Rango_Edad\n",
              "1097    18    F  31.350      4      no        Boyaca    4561.18850          A\n",
              "59      18    M  31.680      2     yes  Cundinamarca   34303.16720          A\n",
              "1251    18    M  33.330      0      no  Cundinamarca    1135.94070          A\n",
              "297     18    M  22.990      0      no        Boyaca    1704.56810          A\n",
              "1255    18    F  39.820      0      no  Cundinamarca    1633.96180          A\n",
              "944     18    F  40.185      0      no        Boyaca    2217.46915          A\n",
              "1152    18    F  30.305      0      no        Boyaca    2203.73595          A\n",
              "665     18    M  33.660      0      no  Cundinamarca    1136.39940          A\n",
              "52      18    F  35.625      0      no        Boyaca    2211.13075          A\n",
              "650     18    M  28.500      0      no        Boyaca    1712.22700          A"
            ]
          },
          "execution_count": 16,
          "metadata": {},
          "output_type": "execute_result"
        }
      ],
      "source": [
        "edad = df.sort_values('edad')\n",
        "edad.head(10)"
      ]
    },
    {
      "cell_type": "code",
      "execution_count": null,
      "id": "40307719-ed13-4118-ad76-772fa299e9f0",
      "metadata": {
        "id": "40307719-ed13-4118-ad76-772fa299e9f0",
        "outputId": "f1a95d69-885b-4363-c945-8137e590f351"
      },
      "outputs": [
        {
          "data": {
            "text/html": [
              "<div>\n",
              "<style scoped>\n",
              "    .dataframe tbody tr th:only-of-type {\n",
              "        vertical-align: middle;\n",
              "    }\n",
              "\n",
              "    .dataframe tbody tr th {\n",
              "        vertical-align: top;\n",
              "    }\n",
              "\n",
              "    .dataframe thead th {\n",
              "        text-align: right;\n",
              "    }\n",
              "</style>\n",
              "<table border=\"1\" class=\"dataframe\">\n",
              "  <thead>\n",
              "    <tr style=\"text-align: right;\">\n",
              "      <th></th>\n",
              "      <th>edad</th>\n",
              "      <th>imc</th>\n",
              "      <th>hijos</th>\n",
              "      <th>valor_seguro</th>\n",
              "    </tr>\n",
              "  </thead>\n",
              "  <tbody>\n",
              "    <tr>\n",
              "      <th>count</th>\n",
              "      <td>1333.000000</td>\n",
              "      <td>1333.000000</td>\n",
              "      <td>1333.000000</td>\n",
              "      <td>1333.000000</td>\n",
              "    </tr>\n",
              "    <tr>\n",
              "      <th>mean</th>\n",
              "      <td>39.195049</td>\n",
              "      <td>30.652097</td>\n",
              "      <td>1.092273</td>\n",
              "      <td>13261.908454</td>\n",
              "    </tr>\n",
              "    <tr>\n",
              "      <th>std</th>\n",
              "      <td>14.052008</td>\n",
              "      <td>6.097609</td>\n",
              "      <td>1.205484</td>\n",
              "      <td>12093.507648</td>\n",
              "    </tr>\n",
              "    <tr>\n",
              "      <th>min</th>\n",
              "      <td>18.000000</td>\n",
              "      <td>15.960000</td>\n",
              "      <td>0.000000</td>\n",
              "      <td>1121.873900</td>\n",
              "    </tr>\n",
              "    <tr>\n",
              "      <th>25%</th>\n",
              "      <td>27.000000</td>\n",
              "      <td>26.220000</td>\n",
              "      <td>0.000000</td>\n",
              "      <td>4738.268200</td>\n",
              "    </tr>\n",
              "    <tr>\n",
              "      <th>50%</th>\n",
              "      <td>39.000000</td>\n",
              "      <td>30.360000</td>\n",
              "      <td>1.000000</td>\n",
              "      <td>9377.904700</td>\n",
              "    </tr>\n",
              "    <tr>\n",
              "      <th>75%</th>\n",
              "      <td>51.000000</td>\n",
              "      <td>34.675000</td>\n",
              "      <td>2.000000</td>\n",
              "      <td>16657.717450</td>\n",
              "    </tr>\n",
              "    <tr>\n",
              "      <th>max</th>\n",
              "      <td>64.000000</td>\n",
              "      <td>53.130000</td>\n",
              "      <td>5.000000</td>\n",
              "      <td>63770.428010</td>\n",
              "    </tr>\n",
              "  </tbody>\n",
              "</table>\n",
              "</div>"
            ],
            "text/plain": [
              "              edad          imc        hijos  valor_seguro\n",
              "count  1333.000000  1333.000000  1333.000000   1333.000000\n",
              "mean     39.195049    30.652097     1.092273  13261.908454\n",
              "std      14.052008     6.097609     1.205484  12093.507648\n",
              "min      18.000000    15.960000     0.000000   1121.873900\n",
              "25%      27.000000    26.220000     0.000000   4738.268200\n",
              "50%      39.000000    30.360000     1.000000   9377.904700\n",
              "75%      51.000000    34.675000     2.000000  16657.717450\n",
              "max      64.000000    53.130000     5.000000  63770.428010"
            ]
          },
          "execution_count": 17,
          "metadata": {},
          "output_type": "execute_result"
        }
      ],
      "source": [
        "df.describe()"
      ]
    },
    {
      "cell_type": "code",
      "execution_count": null,
      "id": "dbf885fc-3588-40f2-9ecf-e1ade35714b1",
      "metadata": {
        "id": "dbf885fc-3588-40f2-9ecf-e1ade35714b1",
        "outputId": "c15ba8ff-f6c9-4ea6-b62d-4dc341fe05d3"
      },
      "outputs": [
        {
          "data": {
            "text/plain": [
              "array([[<AxesSubplot:title={'center':'edad'}>,\n",
              "        <AxesSubplot:title={'center':'imc'}>],\n",
              "       [<AxesSubplot:title={'center':'hijos'}>,\n",
              "        <AxesSubplot:title={'center':'valor_seguro'}>]], dtype=object)"
            ]
          },
          "execution_count": 18,
          "metadata": {},
          "output_type": "execute_result"
        },
        {
          "data": {
            "image/png": "[encoded data removed]",
            "text/plain": [
              "<Figure size 1440x720 with 4 Axes>"
            ]
          },
          "metadata": {
            "needs_background": "light"
          },
          "output_type": "display_data"
        }
      ],
      "source": [
        "df.hist(bins=20,figsize=(20, 10))"
      ]
    },
    {
      "cell_type": "code",
      "execution_count": null,
      "id": "77a64b82-bdb5-428d-9fc3-aed7eee54f44",
      "metadata": {
        "id": "77a64b82-bdb5-428d-9fc3-aed7eee54f44"
      },
      "outputs": [],
      "source": [
        "import seaborn as sns\n",
        "import matplotlib.pyplot as plt"
      ]
    },
    {
      "cell_type": "code",
      "execution_count": null,
      "id": "4c4436c1-bb22-47b4-8024-29c60a3a69e0",
      "metadata": {
        "id": "4c4436c1-bb22-47b4-8024-29c60a3a69e0",
        "outputId": "596b700a-b12d-475f-e370-d709dbd795f1"
      },
      "outputs": [
        {
          "data": {
            "image/png": "[encoded data removed]",
            "text/plain": [
              "<Figure size 432x288 with 1 Axes>"
            ]
          },
          "metadata": {
            "needs_background": "light"
          },
          "output_type": "display_data"
        }
      ],
      "source": [
        "sns.histplot(df.edad,color=\"b\",bins=30,kde=True)\n",
        "plt.show()"
      ]
    },
    {
      "cell_type": "markdown",
      "id": "b405f776-6fed-4f3f-adb7-a0fa342ad57e",
      "metadata": {
        "id": "b405f776-6fed-4f3f-adb7-a0fa342ad57e"
      },
      "source": [
        "# Generar Histograma de distribución de datos para imc"
      ]
    },
    {
      "cell_type": "code",
      "execution_count": null,
      "id": "17d0ff74-e32c-41e9-b06a-9a2e3800d0f0",
      "metadata": {
        "tags": [],
        "id": "17d0ff74-e32c-41e9-b06a-9a2e3800d0f0",
        "outputId": "d2ae2f8b-c124-49ce-ddb1-ecd701856d08"
      },
      "outputs": [
        {
          "data": {
            "image/png": "[encoded data removed]",
            "text/plain": [
              "<Figure size 432x288 with 1 Axes>"
            ]
          },
          "metadata": {
            "needs_background": "light"
          },
          "output_type": "display_data"
        }
      ],
      "source": [
        "sns.histplot(df.imc,color=\"cyan\",bins=10,kde=True)\n",
        "plt.show()"
      ]
    },
    {
      "cell_type": "code",
      "execution_count": null,
      "id": "cf77b652-5730-4a7b-b6a1-7bc3de48df68",
      "metadata": {
        "id": "cf77b652-5730-4a7b-b6a1-7bc3de48df68",
        "outputId": "fcafbcac-0358-4f30-cbc1-734b108c1dbb"
      },
      "outputs": [
        {
          "data": {
            "image/png": "[encoded data removed]",
            "text/plain": [
              "<Figure size 432x288 with 1 Axes>"
            ]
          },
          "metadata": {
            "needs_background": "light"
          },
          "output_type": "display_data"
        }
      ],
      "source": [
        "sns.histplot(df.hijos,color=\"g\",bins=5,kde=True)\n",
        "plt.show()"
      ]
    },
    {
      "cell_type": "code",
      "execution_count": null,
      "id": "9606dac3-5e8d-489f-8f0e-7ad54dee97b5",
      "metadata": {
        "id": "9606dac3-5e8d-489f-8f0e-7ad54dee97b5",
        "outputId": "3d701f34-5ee3-414a-dfc0-a1a14412d542"
      },
      "outputs": [
        {
          "data": {
            "image/png": "[encoded data removed]",
            "text/plain": [
              "<Figure size 432x288 with 1 Axes>"
            ]
          },
          "metadata": {
            "needs_background": "light"
          },
          "output_type": "display_data"
        }
      ],
      "source": [
        "sns.histplot(df.valor_seguro,color=\"k\",bins=10,kde=True)\n",
        "plt.show()"
      ]
    },
    {
      "cell_type": "code",
      "execution_count": null,
      "id": "5a19d809-5dc4-4724-98ea-12078e891be1",
      "metadata": {
        "id": "5a19d809-5dc4-4724-98ea-12078e891be1",
        "outputId": "9015786c-f694-4eab-ab62-68f388a74675"
      },
      "outputs": [
        {
          "name": "stderr",
          "output_type": "stream",
          "text": [
            "C:\\Users\\sthey.tovar\\Anaconda3\\lib\\site-packages\\seaborn\\_decorators.py:36: FutureWarning: Pass the following variable as a keyword arg: x. From version 0.12, the only valid positional argument will be `data`, and passing other arguments without an explicit keyword will result in an error or misinterpretation.\n",
            "  warnings.warn(\n"
          ]
        },
        {
          "data": {
            "image/png": "[encoded data removed]",
            "text/plain": [
              "<Figure size 720x504 with 1 Axes>"
            ]
          },
          "metadata": {
            "needs_background": "light"
          },
          "output_type": "display_data"
        }
      ],
      "source": [
        "plt.figure(figsize=(10,7))\n",
        "sns.countplot(df.Rango_Edad)\n",
        "plt.show()"
      ]
    },
    {
      "cell_type": "code",
      "execution_count": null,
      "id": "58bd0dd4-cc3d-483e-980a-bd01b6197dc4",
      "metadata": {
        "id": "58bd0dd4-cc3d-483e-980a-bd01b6197dc4",
        "outputId": "5ad18f3a-8b71-4dbc-d47d-c0c57d60bb52"
      },
      "outputs": [
        {
          "data": {
            "image/png": "[encoded data removed]",
            "text/plain": [
              "<Figure size 432x288 with 1 Axes>"
            ]
          },
          "metadata": {},
          "output_type": "display_data"
        }
      ],
      "source": [
        "total_hijos=df['hijos'].groupby(df['hijos']).count()\n",
        "labeles=[0, 1, 2, 3, 4, 5]\n",
        "colors=sns.color_palette('pastel')[0:6]\n",
        "plt.pie(total_hijos, labels=labeles, colors=colors, autopct='%.0f%%')\n",
        "plt.show()\n",
        "\n"
      ]
    },
    {
      "cell_type": "code",
      "execution_count": null,
      "id": "20d7843a-e0e5-48a5-9d88-3dee45301622",
      "metadata": {
        "id": "20d7843a-e0e5-48a5-9d88-3dee45301622",
        "outputId": "0606892f-88e1-47b1-b70a-eb18f9124539"
      },
      "outputs": [
        {
          "data": {
            "image/png": "[encoded data removed]",
            "text/plain": [
              "<Figure size 432x288 with 1 Axes>"
            ]
          },
          "metadata": {},
          "output_type": "display_data"
        }
      ],
      "source": [
        "total_rango_edad=df['Rango_Edad'].groupby(df['Rango_Edad']).count()\n",
        "labels=[\"A\", \"B\", \"C\", \"D\", \"E\"]\n",
        "colors1=sns.color_palette('Set2')[0:5]\n",
        "plt.pie(total_rango_edad, labels=labels, colors=colors1, autopct='%.1f%%')\n",
        "plt.show()"
      ]
    },
    {
      "cell_type": "code",
      "execution_count": null,
      "id": "1bb8bec6-d847-424f-9c8a-0e0f2d6e22d0",
      "metadata": {
        "id": "1bb8bec6-d847-424f-9c8a-0e0f2d6e22d0",
        "outputId": "a2cf6f82-f1e9-49cd-c170-f03b5901d7cd"
      },
      "outputs": [
        {
          "data": {
            "image/png": "[encoded data removed]",
            "text/plain": [
              "<Figure size 432x288 with 1 Axes>"
            ]
          },
          "metadata": {},
          "output_type": "display_data"
        }
      ],
      "source": [
        "total_fumadores=df['fumador'].groupby(df['fumador']).count()\n",
        "labeles1=[\"No\", \"Yes\"]\n",
        "colors=sns.color_palette('Set3')[0:2]\n",
        "plt.pie(total_fumadores, labels=labeles1, colors=colors, autopct='%.2f%%')\n",
        "plt.show()\n"
      ]
    },
    {
      "cell_type": "code",
      "execution_count": null,
      "id": "28bc3ef9-ed84-498b-82c2-207a5e508362",
      "metadata": {
        "id": "28bc3ef9-ed84-498b-82c2-207a5e508362",
        "outputId": "2537d8ae-e58d-43db-aade-ba590948713e"
      },
      "outputs": [
        {
          "data": {
            "image/png": "[encoded data removed]",
            "text/plain": [
              "<Figure size 432x288 with 1 Axes>"
            ]
          },
          "metadata": {},
          "output_type": "display_data"
        }
      ],
      "source": [
        "totalxregion=df['region'].groupby(df['region']).count()\n",
        "labels2=[\"Antioquia\", \"Boyaca\", \"Caribe\", \"Cundinamarca\"]\n",
        "colors1=sns.color_palette('Set2')[0:4]\n",
        "plt.pie(totalxregion, labels=labels2, colors=colors1, autopct='%.1f%%')\n",
        "plt.show()"
      ]
    },
    {
      "cell_type": "code",
      "execution_count": null,
      "id": "1b70c48c-924c-40ff-b59b-11bb01eae3a2",
      "metadata": {
        "id": "1b70c48c-924c-40ff-b59b-11bb01eae3a2",
        "outputId": "cac4fdaa-a352-4347-e032-ce56062ee071"
      },
      "outputs": [
        {
          "data": {
            "image/png": "[encoded data removed]",
            "text/plain": [
              "<Figure size 432x288 with 1 Axes>"
            ]
          },
          "metadata": {
            "needs_background": "light"
          },
          "output_type": "display_data"
        }
      ],
      "source": [
        "Redad_valor=sns.boxplot(x=df[\"Rango_Edad\"], y=df[\"valor_seguro\"])"
      ]
    },
    {
      "cell_type": "code",
      "execution_count": null,
      "id": "9710486d-c8b2-4860-83fa-eec59802e5ca",
      "metadata": {
        "id": "9710486d-c8b2-4860-83fa-eec59802e5ca",
        "outputId": "a5778f2e-8e80-4062-f536-018e93dcdcd2"
      },
      "outputs": [
        {
          "data": {
            "image/png": "[encoded data removed]",
            "text/plain": [
              "<Figure size 432x288 with 1 Axes>"
            ]
          },
          "metadata": {
            "needs_background": "light"
          },
          "output_type": "display_data"
        }
      ],
      "source": [
        "Redad_valor=sns.boxplot(x=df[\"fumador\"], y=df[\"valor_seguro\"])"
      ]
    },
    {
      "cell_type": "code",
      "execution_count": null,
      "id": "ab316e33-5616-4f31-832a-eee47b2925ea",
      "metadata": {
        "id": "ab316e33-5616-4f31-832a-eee47b2925ea",
        "outputId": "55d0a659-9b18-43ee-a6ae-249d64cbff3f"
      },
      "outputs": [
        {
          "data": {
            "text/plain": [
              "<AxesSubplot:>"
            ]
          },
          "execution_count": 31,
          "metadata": {},
          "output_type": "execute_result"
        },
        {
          "data": {
            "image/png": "[encoded data removed]",
            "text/plain": [
              "<Figure size 432x288 with 2 Axes>"
            ]
          },
          "metadata": {
            "needs_background": "light"
          },
          "output_type": "display_data"
        }
      ],
      "source": [
        "df1=df.corr()\n",
        "#df1 #(activar para comprobar correlacion)\n",
        "sns.heatmap(df1,center=1,annot=True,linewidths=0.5,linecolor=\"white\")"
      ]
    },
    {
      "cell_type": "code",
      "execution_count": null,
      "id": "9497fe02-f3a8-415b-a0f7-5b3465e5db3e",
      "metadata": {
        "id": "9497fe02-f3a8-415b-a0f7-5b3465e5db3e",
        "outputId": "a6ab6223-d264-4a53-ff0c-0cfb523e09ac"
      },
      "outputs": [
        {
          "data": {
            "text/plain": [
              "<seaborn.axisgrid.FacetGrid at 0x1c0de056ac0>"
            ]
          },
          "execution_count": 32,
          "metadata": {},
          "output_type": "execute_result"
        },
        {
          "data": {
            "image/png": "[encoded data removed]",
            "text/plain": [
              "<Figure size 408.75x360 with 1 Axes>"
            ]
          },
          "metadata": {
            "needs_background": "light"
          },
          "output_type": "display_data"
        },
        {
          "data": {
            "image/png": "[encoded data removed]",
            "text/plain": [
              "<Figure size 413.25x360 with 1 Axes>"
            ]
          },
          "metadata": {
            "needs_background": "light"
          },
          "output_type": "display_data"
        }
      ],
      "source": [
        "sns.relplot(x='Rango_Edad',y='valor_seguro',hue='imc', data=df)\n",
        "sns.relplot(x='Rango_Edad',y='valor_seguro',hue='fumador',data=df)"
      ]
    },
    {
      "cell_type": "code",
      "execution_count": null,
      "id": "b38606f7-412d-400d-a42b-44a8f35e6ef3",
      "metadata": {
        "id": "b38606f7-412d-400d-a42b-44a8f35e6ef3",
        "outputId": "845e6b37-4606-4561-8f99-a6dcc521d34c"
      },
      "outputs": [
        {
          "data": {
            "text/html": [
              "<div>\n",
              "<style scoped>\n",
              "    .dataframe tbody tr th:only-of-type {\n",
              "        vertical-align: middle;\n",
              "    }\n",
              "\n",
              "    .dataframe tbody tr th {\n",
              "        vertical-align: top;\n",
              "    }\n",
              "\n",
              "    .dataframe thead th {\n",
              "        text-align: right;\n",
              "    }\n",
              "</style>\n",
              "<table border=\"1\" class=\"dataframe\">\n",
              "  <thead>\n",
              "    <tr style=\"text-align: right;\">\n",
              "      <th></th>\n",
              "      <th>edad</th>\n",
              "      <th>sexo</th>\n",
              "      <th>imc</th>\n",
              "      <th>hijos</th>\n",
              "      <th>fumador</th>\n",
              "      <th>region</th>\n",
              "      <th>valor_seguro</th>\n",
              "      <th>Rango_Edad</th>\n",
              "    </tr>\n",
              "  </thead>\n",
              "  <tbody>\n",
              "    <tr>\n",
              "      <th>0</th>\n",
              "      <td>19</td>\n",
              "      <td>F</td>\n",
              "      <td>27.900</td>\n",
              "      <td>0</td>\n",
              "      <td>yes</td>\n",
              "      <td>Caribe</td>\n",
              "      <td>16884.92400</td>\n",
              "      <td>A</td>\n",
              "    </tr>\n",
              "    <tr>\n",
              "      <th>3</th>\n",
              "      <td>18</td>\n",
              "      <td>M</td>\n",
              "      <td>33.770</td>\n",
              "      <td>1</td>\n",
              "      <td>no</td>\n",
              "      <td>Cundinamarca</td>\n",
              "      <td>1725.55230</td>\n",
              "      <td>A</td>\n",
              "    </tr>\n",
              "    <tr>\n",
              "      <th>4</th>\n",
              "      <td>28</td>\n",
              "      <td>M</td>\n",
              "      <td>33.000</td>\n",
              "      <td>3</td>\n",
              "      <td>no</td>\n",
              "      <td>Cundinamarca</td>\n",
              "      <td>4449.46200</td>\n",
              "      <td>A</td>\n",
              "    </tr>\n",
              "    <tr>\n",
              "      <th>5</th>\n",
              "      <td>33</td>\n",
              "      <td>M</td>\n",
              "      <td>22.705</td>\n",
              "      <td>0</td>\n",
              "      <td>no</td>\n",
              "      <td>Antioquia</td>\n",
              "      <td>21984.47061</td>\n",
              "      <td>B</td>\n",
              "    </tr>\n",
              "    <tr>\n",
              "      <th>6</th>\n",
              "      <td>32</td>\n",
              "      <td>M</td>\n",
              "      <td>28.880</td>\n",
              "      <td>0</td>\n",
              "      <td>no</td>\n",
              "      <td>Antioquia</td>\n",
              "      <td>3866.85520</td>\n",
              "      <td>B</td>\n",
              "    </tr>\n",
              "    <tr>\n",
              "      <th>...</th>\n",
              "      <td>...</td>\n",
              "      <td>...</td>\n",
              "      <td>...</td>\n",
              "      <td>...</td>\n",
              "      <td>...</td>\n",
              "      <td>...</td>\n",
              "      <td>...</td>\n",
              "      <td>...</td>\n",
              "    </tr>\n",
              "    <tr>\n",
              "      <th>1342</th>\n",
              "      <td>50</td>\n",
              "      <td>M</td>\n",
              "      <td>30.970</td>\n",
              "      <td>3</td>\n",
              "      <td>no</td>\n",
              "      <td>Antioquia</td>\n",
              "      <td>10600.54830</td>\n",
              "      <td>D</td>\n",
              "    </tr>\n",
              "    <tr>\n",
              "      <th>1343</th>\n",
              "      <td>18</td>\n",
              "      <td>F</td>\n",
              "      <td>31.920</td>\n",
              "      <td>0</td>\n",
              "      <td>no</td>\n",
              "      <td>Boyaca</td>\n",
              "      <td>2205.98080</td>\n",
              "      <td>A</td>\n",
              "    </tr>\n",
              "    <tr>\n",
              "      <th>1344</th>\n",
              "      <td>18</td>\n",
              "      <td>F</td>\n",
              "      <td>36.850</td>\n",
              "      <td>0</td>\n",
              "      <td>no</td>\n",
              "      <td>Cundinamarca</td>\n",
              "      <td>1629.83350</td>\n",
              "      <td>A</td>\n",
              "    </tr>\n",
              "    <tr>\n",
              "      <th>1346</th>\n",
              "      <td>21</td>\n",
              "      <td>F</td>\n",
              "      <td>25.800</td>\n",
              "      <td>0</td>\n",
              "      <td>no</td>\n",
              "      <td>Caribe</td>\n",
              "      <td>2007.94500</td>\n",
              "      <td>A</td>\n",
              "    </tr>\n",
              "    <tr>\n",
              "      <th>1347</th>\n",
              "      <td>61</td>\n",
              "      <td>F</td>\n",
              "      <td>29.070</td>\n",
              "      <td>0</td>\n",
              "      <td>yes</td>\n",
              "      <td>Antioquia</td>\n",
              "      <td>29141.36030</td>\n",
              "      <td>E</td>\n",
              "    </tr>\n",
              "  </tbody>\n",
              "</table>\n",
              "<p>1333 rows × 8 columns</p>\n",
              "</div>"
            ],
            "text/plain": [
              "      edad sexo     imc  hijos fumador        region  valor_seguro Rango_Edad\n",
              "0       19    F  27.900      0     yes        Caribe   16884.92400          A\n",
              "3       18    M  33.770      1      no  Cundinamarca    1725.55230          A\n",
              "4       28    M  33.000      3      no  Cundinamarca    4449.46200          A\n",
              "5       33    M  22.705      0      no     Antioquia   21984.47061          B\n",
              "6       32    M  28.880      0      no     Antioquia    3866.85520          B\n",
              "...    ...  ...     ...    ...     ...           ...           ...        ...\n",
              "1342    50    M  30.970      3      no     Antioquia   10600.54830          D\n",
              "1343    18    F  31.920      0      no        Boyaca    2205.98080          A\n",
              "1344    18    F  36.850      0      no  Cundinamarca    1629.83350          A\n",
              "1346    21    F  25.800      0      no        Caribe    2007.94500          A\n",
              "1347    61    F  29.070      0     yes     Antioquia   29141.36030          E\n",
              "\n",
              "[1333 rows x 8 columns]"
            ]
          },
          "execution_count": 33,
          "metadata": {},
          "output_type": "execute_result"
        },
        {
          "data": {
            "image/png": "[encoded data removed]",
            "text/plain": [
              "<Figure size 432x288 with 1 Axes>"
            ]
          },
          "metadata": {
            "needs_background": "light"
          },
          "output_type": "display_data"
        }
      ],
      "source": [
        "sns.barplot(data=df,x='Rango_Edad',y='valor_seguro',hue='fumador')\n",
        "df"
      ]
    },
    {
      "cell_type": "code",
      "execution_count": null,
      "id": "bd33694f-e328-4fdd-94ef-836b9196d710",
      "metadata": {
        "tags": [],
        "id": "bd33694f-e328-4fdd-94ef-836b9196d710",
        "outputId": "ed695169-0ce3-4b3d-c375-51c1673cb52e"
      },
      "outputs": [
        {
          "data": {
            "text/plain": [
              "<seaborn.axisgrid.FacetGrid at 0x1c0de1bfa60>"
            ]
          },
          "execution_count": 35,
          "metadata": {},
          "output_type": "execute_result"
        },
        {
          "data": {
            "image/png": "[encoded data removed]",
            "text/plain": [
              "<Figure size 413.25x360 with 1 Axes>"
            ]
          },
          "metadata": {
            "needs_background": "light"
          },
          "output_type": "display_data"
        }
      ],
      "source": [
        "sns.relplot(x='region',y='valor_seguro',hue='fumador',data=df)"
      ]
    },
    {
      "cell_type": "code",
      "execution_count": null,
      "id": "93c30e73-ee24-4134-bd71-dc327ce6032a",
      "metadata": {
        "id": "93c30e73-ee24-4134-bd71-dc327ce6032a",
        "outputId": "e9d3119e-5824-4a72-8c40-db0d6ec5915f"
      },
      "outputs": [
        {
          "data": {
            "text/plain": [
              "<seaborn.axisgrid.FacetGrid at 0x1c0ddf41c40>"
            ]
          },
          "execution_count": 36,
          "metadata": {},
          "output_type": "execute_result"
        },
        {
          "data": {
            "image/png": "[encoded data removed]",
            "text/plain": [
              "<Figure size 413.25x360 with 1 Axes>"
            ]
          },
          "metadata": {
            "needs_background": "light"
          },
          "output_type": "display_data"
        }
      ],
      "source": [
        "sns.relplot(x='hijos',y='valor_seguro',hue='fumador',data=df)"
      ]
    },
    {
      "cell_type": "code",
      "execution_count": null,
      "id": "ded6a1b5-9b5b-4821-989d-e1cb5bd75027",
      "metadata": {
        "id": "ded6a1b5-9b5b-4821-989d-e1cb5bd75027",
        "outputId": "b5557fb6-47bb-47ed-af94-f7501e097703"
      },
      "outputs": [
        {
          "data": {
            "text/plain": [
              "Cundinamarca    362\n",
              "Caribe          325\n",
              "Antioquia       323\n",
              "Boyaca          323\n",
              "Name: region, dtype: int64"
            ]
          },
          "execution_count": 37,
          "metadata": {},
          "output_type": "execute_result"
        }
      ],
      "source": [
        "pd.value_counts(df['region']) "
      ]
    },
    {
      "cell_type": "code",
      "execution_count": null,
      "id": "dca479d9-d6c2-412f-9c2d-571ce3475787",
      "metadata": {
        "id": "dca479d9-d6c2-412f-9c2d-571ce3475787",
        "outputId": "80e70fce-bc6c-47c0-fb10-8f1a6e7516ff"
      },
      "outputs": [
        {
          "data": {
            "text/html": [
              "<div>\n",
              "<style scoped>\n",
              "    .dataframe tbody tr th:only-of-type {\n",
              "        vertical-align: middle;\n",
              "    }\n",
              "\n",
              "    .dataframe tbody tr th {\n",
              "        vertical-align: top;\n",
              "    }\n",
              "\n",
              "    .dataframe thead th {\n",
              "        text-align: right;\n",
              "    }\n",
              "</style>\n",
              "<table border=\"1\" class=\"dataframe\">\n",
              "  <thead>\n",
              "    <tr style=\"text-align: right;\">\n",
              "      <th></th>\n",
              "      <th>edad</th>\n",
              "      <th>sexo</th>\n",
              "      <th>imc</th>\n",
              "      <th>hijos</th>\n",
              "      <th>fumador</th>\n",
              "      <th>region</th>\n",
              "      <th>valor_seguro</th>\n",
              "      <th>Rango_Edad</th>\n",
              "    </tr>\n",
              "  </thead>\n",
              "  <tbody>\n",
              "    <tr>\n",
              "      <th>0</th>\n",
              "      <td>19</td>\n",
              "      <td>F</td>\n",
              "      <td>27.900</td>\n",
              "      <td>0</td>\n",
              "      <td>yes</td>\n",
              "      <td>Caribe</td>\n",
              "      <td>16884.92400</td>\n",
              "      <td>A</td>\n",
              "    </tr>\n",
              "    <tr>\n",
              "      <th>3</th>\n",
              "      <td>18</td>\n",
              "      <td>M</td>\n",
              "      <td>33.770</td>\n",
              "      <td>1</td>\n",
              "      <td>no</td>\n",
              "      <td>Cundinamarca</td>\n",
              "      <td>1725.55230</td>\n",
              "      <td>A</td>\n",
              "    </tr>\n",
              "    <tr>\n",
              "      <th>4</th>\n",
              "      <td>28</td>\n",
              "      <td>M</td>\n",
              "      <td>33.000</td>\n",
              "      <td>3</td>\n",
              "      <td>no</td>\n",
              "      <td>Cundinamarca</td>\n",
              "      <td>4449.46200</td>\n",
              "      <td>A</td>\n",
              "    </tr>\n",
              "    <tr>\n",
              "      <th>5</th>\n",
              "      <td>33</td>\n",
              "      <td>M</td>\n",
              "      <td>22.705</td>\n",
              "      <td>0</td>\n",
              "      <td>no</td>\n",
              "      <td>Antioquia</td>\n",
              "      <td>21984.47061</td>\n",
              "      <td>B</td>\n",
              "    </tr>\n",
              "    <tr>\n",
              "      <th>6</th>\n",
              "      <td>32</td>\n",
              "      <td>M</td>\n",
              "      <td>28.880</td>\n",
              "      <td>0</td>\n",
              "      <td>no</td>\n",
              "      <td>Antioquia</td>\n",
              "      <td>3866.85520</td>\n",
              "      <td>B</td>\n",
              "    </tr>\n",
              "    <tr>\n",
              "      <th>...</th>\n",
              "      <td>...</td>\n",
              "      <td>...</td>\n",
              "      <td>...</td>\n",
              "      <td>...</td>\n",
              "      <td>...</td>\n",
              "      <td>...</td>\n",
              "      <td>...</td>\n",
              "      <td>...</td>\n",
              "    </tr>\n",
              "    <tr>\n",
              "      <th>1342</th>\n",
              "      <td>50</td>\n",
              "      <td>M</td>\n",
              "      <td>30.970</td>\n",
              "      <td>3</td>\n",
              "      <td>no</td>\n",
              "      <td>Antioquia</td>\n",
              "      <td>10600.54830</td>\n",
              "      <td>D</td>\n",
              "    </tr>\n",
              "    <tr>\n",
              "      <th>1343</th>\n",
              "      <td>18</td>\n",
              "      <td>F</td>\n",
              "      <td>31.920</td>\n",
              "      <td>0</td>\n",
              "      <td>no</td>\n",
              "      <td>Boyaca</td>\n",
              "      <td>2205.98080</td>\n",
              "      <td>A</td>\n",
              "    </tr>\n",
              "    <tr>\n",
              "      <th>1344</th>\n",
              "      <td>18</td>\n",
              "      <td>F</td>\n",
              "      <td>36.850</td>\n",
              "      <td>0</td>\n",
              "      <td>no</td>\n",
              "      <td>Cundinamarca</td>\n",
              "      <td>1629.83350</td>\n",
              "      <td>A</td>\n",
              "    </tr>\n",
              "    <tr>\n",
              "      <th>1346</th>\n",
              "      <td>21</td>\n",
              "      <td>F</td>\n",
              "      <td>25.800</td>\n",
              "      <td>0</td>\n",
              "      <td>no</td>\n",
              "      <td>Caribe</td>\n",
              "      <td>2007.94500</td>\n",
              "      <td>A</td>\n",
              "    </tr>\n",
              "    <tr>\n",
              "      <th>1347</th>\n",
              "      <td>61</td>\n",
              "      <td>F</td>\n",
              "      <td>29.070</td>\n",
              "      <td>0</td>\n",
              "      <td>yes</td>\n",
              "      <td>Antioquia</td>\n",
              "      <td>29141.36030</td>\n",
              "      <td>E</td>\n",
              "    </tr>\n",
              "  </tbody>\n",
              "</table>\n",
              "<p>1333 rows × 8 columns</p>\n",
              "</div>"
            ],
            "text/plain": [
              "      edad sexo     imc  hijos fumador        region  valor_seguro Rango_Edad\n",
              "0       19    F  27.900      0     yes        Caribe   16884.92400          A\n",
              "3       18    M  33.770      1      no  Cundinamarca    1725.55230          A\n",
              "4       28    M  33.000      3      no  Cundinamarca    4449.46200          A\n",
              "5       33    M  22.705      0      no     Antioquia   21984.47061          B\n",
              "6       32    M  28.880      0      no     Antioquia    3866.85520          B\n",
              "...    ...  ...     ...    ...     ...           ...           ...        ...\n",
              "1342    50    M  30.970      3      no     Antioquia   10600.54830          D\n",
              "1343    18    F  31.920      0      no        Boyaca    2205.98080          A\n",
              "1344    18    F  36.850      0      no  Cundinamarca    1629.83350          A\n",
              "1346    21    F  25.800      0      no        Caribe    2007.94500          A\n",
              "1347    61    F  29.070      0     yes     Antioquia   29141.36030          E\n",
              "\n",
              "[1333 rows x 8 columns]"
            ]
          },
          "execution_count": 48,
          "metadata": {},
          "output_type": "execute_result"
        }
      ],
      "source": [
        "'A B C D E'.split()\n",
        "df"
      ]
    },
    {
      "cell_type": "code",
      "execution_count": null,
      "id": "5dfb4fc0-eb09-4a38-a65d-7d4c3e2ea2c5",
      "metadata": {
        "id": "5dfb4fc0-eb09-4a38-a65d-7d4c3e2ea2c5"
      },
      "outputs": [],
      "source": [
        "fumadores= df[df['fumador'] =='yes']\n",
        "AporteFumadores=fumadores['valor_seguro'].sum()\n",
        "\n",
        "Nofumadores= df[df['fumador'] =='no']\n",
        "AporteNoFumadores=Nofumadores['valor_seguro'].sum()\n",
        "\n",
        "TotalAporte=AporteFumadores + AporteFumadores\n",
        "PorcentajeNoFumadores=(AporteNoFumadores/TotalAporte)*100\n",
        "PorcentajeFumadores=100-PorcentajeNoFumadores"
      ]
    },
    {
      "cell_type": "code",
      "execution_count": null,
      "id": "c84f0257-5708-4ae4-a908-0527e788c0cd",
      "metadata": {
        "id": "c84f0257-5708-4ae4-a908-0527e788c0cd",
        "outputId": "02e6eb01-25b6-4002-e999-332d4a4ce4ff"
      },
      "outputs": [
        {
          "data": {
            "text/plain": [
              "48.815771782971964"
            ]
          },
          "execution_count": 73,
          "metadata": {},
          "output_type": "execute_result"
        }
      ],
      "source": [
        "float(PorcentajeFumadores)"
      ]
    },
    {
      "cell_type": "code",
      "execution_count": null,
      "id": "ab38181a-b464-4203-9100-0e9992c181d5",
      "metadata": {
        "id": "ab38181a-b464-4203-9100-0e9992c181d5",
        "outputId": "c573ca61-cc3e-4a31-af31-0df846bca94c"
      },
      "outputs": [
        {
          "data": {
            "text/plain": [
              "51.184228217028036"
            ]
          },
          "execution_count": 74,
          "metadata": {},
          "output_type": "execute_result"
        }
      ],
      "source": [
        "PorcentajeNoFumadores"
      ]
    },
    {
      "cell_type": "code",
      "execution_count": null,
      "id": "6a475434-e257-448a-bcb0-8ec60b5b604c",
      "metadata": {
        "id": "6a475434-e257-448a-bcb0-8ec60b5b604c"
      },
      "outputs": [],
      "source": []
    }
  ],
  "metadata": {
    "kernelspec": {
      "display_name": "Python 3 (ipykernel)",
      "language": "python",
      "name": "python3"
    },
    "language_info": {
      "codemirror_mode": {
        "name": "ipython",
        "version": 3
      },
      "file_extension": ".py",
      "mimetype": "text/x-python",
      "name": "python",
      "nbconvert_exporter": "python",
      "pygments_lexer": "ipython3",
      "version": "3.9.12"
    },
    "colab": {
      "provenance": []
    }
  },
  "nbformat": 4,
  "nbformat_minor": 5
}